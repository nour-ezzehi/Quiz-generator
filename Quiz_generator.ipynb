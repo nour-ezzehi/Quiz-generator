{
  "nbformat": 4,
  "nbformat_minor": 0,
  "metadata": {
    "colab": {
      "provenance": [],
      "authorship_tag": "ABX9TyMthTfT1Qo7QCgthZF3oy0H",
      "include_colab_link": true
    },
    "kernelspec": {
      "name": "python3",
      "display_name": "Python 3"
    },
    "language_info": {
      "name": "python"
    }
  },
  "cells": [
    {
      "cell_type": "markdown",
      "metadata": {
        "id": "view-in-github",
        "colab_type": "text"
      },
      "source": [
        "<a href=\"https://colab.research.google.com/github/nour-ezzehi/Quiz-generator/blob/main/Quiz_generator.ipynb\" target=\"_parent\"><img src=\"https://colab.research.google.com/assets/colab-badge.svg\" alt=\"Open In Colab\"/></a>"
      ]
    },
    {
      "cell_type": "code",
      "execution_count": 22,
      "metadata": {
        "id": "3uvQWxZfyZgY"
      },
      "outputs": [],
      "source": [
        "import spacy\n",
        "from transformers import T5ForConditionalGeneration, T5Tokenizer\n",
        "import random"
      ]
    },
    {
      "cell_type": "code",
      "source": [
        "nlp = spacy.load('en_core_web_sm')\n",
        "\n",
        "model = T5ForConditionalGeneration.from_pretrained(\"t5-small\")\n",
        "tokenizer = T5Tokenizer.from_pretrained(\"t5-small\")\n",
        "\n",
        "def process_text(text):\n",
        "    doc = nlp(text)\n",
        "\n",
        "    entities = [(ent.text, ent.label_) for ent in doc.ents]\n",
        "\n",
        "    sentences = [sent.text for sent in doc.sents]\n",
        "\n",
        "    return sentences, entities"
      ],
      "metadata": {
        "id": "FKlcTC_NykTO"
      },
      "execution_count": 23,
      "outputs": []
    },
    {
      "cell_type": "code",
      "source": [
        "def generate_question(text):\n",
        "    input_text = f\"generate a question: {text}\"\n",
        "    inputs = tokenizer(input_text, return_tensors=\"pt\", max_length=512, truncation=True)\n",
        "    output = model.generate(inputs['input_ids'], max_length=50)\n",
        "    question = tokenizer.decode(output[0], skip_special_tokens=True)\n",
        "    return question"
      ],
      "metadata": {
        "id": "oWgw8bTFypLw"
      },
      "execution_count": 24,
      "outputs": []
    },
    {
      "cell_type": "code",
      "source": [
        "def generate_mcq(question, correct_answer):\n",
        "    distractors = [correct_answer, \"incorrect_answer_1\", \"incorrect_answer_2\", \"incorrect_answer_3\"]\n",
        "    random.shuffle(distractors)\n",
        "\n",
        "    return {\n",
        "        \"question\": question,\n",
        "        \"options\": distractors,\n",
        "        \"answer\": correct_answer\n",
        "    }\n",
        "text = \"Albert Einstein was born in Ulm, Germany, in 1879. He was a theoretical physicist and is best known for developing the theory of relativity.\"\n",
        "\n",
        "sentences, entities = process_text(text)\n",
        "\n",
        "quiz = []"
      ],
      "metadata": {
        "id": "7NUIgag3zLLG"
      },
      "execution_count": 25,
      "outputs": []
    },
    {
      "cell_type": "code",
      "source": [
        "for sentence in sentences:\n",
        "    question = generate_question(sentence)\n",
        "    if len(entities) > 0:\n",
        "        correct_answer = entities[0][0]\n",
        "        mcq = generate_mcq(question, correct_answer)\n",
        "        quiz.append(mcq)\n",
        "\n",
        "print(quiz)"
      ],
      "metadata": {
        "id": "SlO-Y7aj31VV",
        "colab": {
          "base_uri": "https://localhost:8080/"
        },
        "outputId": "c36589a5-f4f3-4266-88d5-e9345894e351"
      },
      "execution_count": 26,
      "outputs": [
        {
          "output_type": "stream",
          "name": "stdout",
          "text": [
            "[{'question': 'a question', 'options': ['Albert Einstein', 'incorrect_answer_1', 'incorrect_answer_2', 'incorrect_answer_3'], 'answer': 'Albert Einstein'}, {'question': 'a question', 'options': ['incorrect_answer_3', 'incorrect_answer_2', 'Albert Einstein', 'incorrect_answer_1'], 'answer': 'Albert Einstein'}]\n"
          ]
        }
      ]
    }
  ]
}